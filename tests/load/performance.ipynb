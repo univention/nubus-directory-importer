{
 "cells": [
  {
   "cell_type": "code",
   "execution_count": null,
   "metadata": {},
   "outputs": [],
   "source": [
    "import src.performance_graphs as pg\n",
    "\n",
    "user_line = \"2025-02-05 06:48:42,548 root[7] INFO Added users/user entry uid=user_202502041219_39992,ou=ad-sync,dc=univention-organization,dc=intranet with primary key '7c1fbd1f-317f-43c9-8a29-59b33d30050e'\"\n",
    "\n",
    "group_line = \"2025-02-05 07:07:16,967 root[7] INFO Added groups/group entry cn=202502041219_group-4_max-members-10_0,ou=ad-sync,dc=univention-organization,dc=intranet with primary key 'd1552048-bd3d-44b9-b417-34dcb5a57c00'\"\n",
    "print(pg.parse_user_line(user_line))\n",
    "print(pg.parse_group_line(group_line))\n",
    "\n",
    "simple_user_line = \"2025-01-28 07:31:07,186 root[7] INFO Added users/user entry uid=user24,ou=ad-sync,dc=univention-organization,dc=intranet with primary key 'a6b7fc3d-6151-407f-b07c-c7d4e930984d'\"\n",
    "\n",
    "print(pg.parse_simple_user_line(simple_user_line))"
   ]
  },
  {
   "cell_type": "code",
   "execution_count": null,
   "metadata": {},
   "outputs": [],
   "source": [
    "import matplotlib.pyplot\n",
    "import matplotlib.ticker\n",
    "\n",
    "def plot_time_delta(df, prefix, column_id, column_description):\n",
    "    matplotlib.pyplot.figure(figsize=(12, 6))\n",
    "    matplotlib.pyplot.scatter(df[column_id], df['time_delta'], alpha=0.7, s=5)\n",
    "    matplotlib.pyplot.title(f\"Time Delta vs {column_description}\")\n",
    "    matplotlib.pyplot.xlabel(column_description)\n",
    "    matplotlib.pyplot.ylabel(\"Time Delta (seconds)\")\n",
    "    matplotlib.pyplot.grid(True)\n",
    "    matplotlib.pyplot.savefig(f\"{prefix}_time-delta.jpeg\", dpi=600, bbox_inches=\"tight\", format=\"jpeg\")\n",
    "    matplotlib.pyplot.show()\n",
    "\n",
    "\n",
    "def plot_time_delta_logarythmic(df, prefix, column_id, column_description):\n",
    "    matplotlib.pyplot.figure(figsize=(12, 6))\n",
    "    matplotlib.pyplot.scatter(df[column_id], df['time_delta'], label=\"Time Delta\", alpha=0.7, s=5)\n",
    "    matplotlib.pyplot.yscale('log')\n",
    "    matplotlib.pyplot.title(f\"Time Delta vs {column_description} (Logarithmic Scale)\")\n",
    "    matplotlib.pyplot.xlabel(column_description)\n",
    "    matplotlib.pyplot.ylabel(\"Time Delta (seconds)\")\n",
    "\n",
    "    ax = matplotlib.pyplot.gca()\n",
    "    ax.yaxis.set_major_formatter(matplotlib.ticker.FuncFormatter(lambda x, _: f\"{int(x)}\"))\n",
    "    ax.yaxis.set_major_locator(matplotlib.ticker.LogLocator(base=10.0, subs=None, numticks=10))\n",
    "\n",
    "    matplotlib.pyplot.grid(True, which=\"both\", linestyle=\"--\", linewidth=0.5)\n",
    "    matplotlib.pyplot.legend()\n",
    "\n",
    "    matplotlib.pyplot.savefig(f\"{prefix}_time-delta-logarythmic.jpeg\", dpi=600, bbox_inches=\"tight\", format=\"jpeg\")\n",
    "\n",
    "    matplotlib.pyplot.show()\n",
    "\n",
    "\n",
    "def plot_entries_created_per_hour(df, prefix, column_id, column_description):\n",
    "    start_time = df['timestamp'].min()\n",
    "    df['hours_since_start'] = (df['timestamp'] - start_time).dt.total_seconds() / 3600\n",
    "\n",
    "    matplotlib.pyplot.figure(figsize=(12, 6))\n",
    "    matplotlib.pyplot.plot(df['hours_since_start'], df[column_id], label=\"Cumulative Users\", alpha=0.8)\n",
    "\n",
    "    matplotlib.pyplot.title(f\"{column_description} Created Over Time\")\n",
    "    matplotlib.pyplot.xlabel(\"Time (Hours Since Start)\")\n",
    "    matplotlib.pyplot.ylabel(column_description)\n",
    "\n",
    "    ax = matplotlib.pyplot.gca()\n",
    "    ax.xaxis.set_major_locator(matplotlib.pyplot.MultipleLocator(10))\n",
    "    ax.xaxis.set_minor_locator(matplotlib.pyplot.MultipleLocator(1))\n",
    "\n",
    "    matplotlib.pyplot.grid(True, linestyle=\"--\", linewidth=0.5)\n",
    "    matplotlib.pyplot.legend()\n",
    "    matplotlib.pyplot.savefig(f\"{prefix}_over-time.jpeg\", dpi=600, bbox_inches=\"tight\", format=\"jpeg\")\n",
    "    matplotlib.pyplot.show()\n"
   ]
  },
  {
   "cell_type": "code",
   "execution_count": null,
   "metadata": {},
   "outputs": [],
   "source": [
    "import src.performance_graphs as pg\n",
    "\n",
    "def total_time(df):\n",
    "    return df.iloc[-1]['timestamp'] - df.iloc[0]['timestamp']\n",
    "\n",
    "def create_users_graphs(users_raw, user_prefix, outlier_seconds):\n",
    "    users = pg.remove_outliers(users_raw, outlier_seconds)\n",
    "    users = users.reset_index()\n",
    "\n",
    "    print(f\"Total users created: {len(users)}\")\n",
    "    print(f\"Total user creation time: {total_time(users)}\")\n",
    "    print(f\"average user creation time: {users['time_delta'].mean()}\")\n",
    "\n",
    "    plot_time_delta(users, user_prefix, \"index\", \"User ID\")\n",
    "    plot_time_delta_logarythmic(users, user_prefix, \"index\", \"User ID\")\n",
    "    plot_entries_created_per_hour(users, user_prefix, \"index\", \"Number of users\")"
   ]
  },
  {
   "cell_type": "code",
   "execution_count": null,
   "metadata": {},
   "outputs": [],
   "source": [
    "import src.performance_graphs as pg\n",
    "\n",
    "users_raw_local = pg.process_log_file(\"./40k-local-storage.log\", pg.parse_user_line)\n",
    "groups_raw_local = pg.process_log_file(\"./40k-local-storage.log\", pg.parse_group_line)\n",
    "display(users_raw_local.head())\n",
    "display(groups_raw_local.head())"
   ]
  },
  {
   "cell_type": "code",
   "execution_count": null,
   "metadata": {},
   "outputs": [],
   "source": [
    "prefix = \"./results_2025-02/40k-local-storage-scatter\"\n",
    "user_prefix = f\"{prefix}_users\"\n",
    "\n",
    "create_users_graphs(users_raw_local, user_prefix, 3)"
   ]
  },
  {
   "cell_type": "code",
   "execution_count": null,
   "metadata": {},
   "outputs": [],
   "source": [
    "import src.performance_graphs as pg\n",
    "\n",
    "group_prefix = f\"{prefix}_groups\"\n",
    "\n",
    "groups = pg.remove_outliers(groups_raw_local, 2)\n",
    "groups = groups.reset_index()\n",
    "\n",
    "print(f\"groups created: {len(groups)}\")\n",
    "print(f\"Total group creation time: {total_time(groups)}\")\n",
    "print(\"Average group creation times:\")\n",
    "print(pg.group_stats(groups))\n",
    "\n",
    "plot_time_delta(groups, group_prefix, \"index\", \"Group Counter\")\n",
    "plot_time_delta_logarythmic(groups, group_prefix, \"index\", \"Group Counter\")\n",
    "plot_entries_created_per_hour(groups, group_prefix, \"index\", \"Group Counter\")"
   ]
  },
  {
   "cell_type": "code",
   "execution_count": null,
   "metadata": {},
   "outputs": [],
   "source": [
    "import src.performance_graphs as pg\n",
    "\n",
    "users_raw_ceph = pg.process_log_file(\"./40k-users-ceph-pvc-full-sync.log\", pg.parse_user_line)\n",
    "groups_raw_ceph = pg.process_log_file(\"./40k-users-ceph-pvc-full-sync.log\", pg.parse_group_line)\n",
    "display(users_raw_ceph.head())\n",
    "display(groups_raw_ceph.head())"
   ]
  },
  {
   "cell_type": "code",
   "execution_count": null,
   "metadata": {},
   "outputs": [],
   "source": [
    "import src.performance_graphs as pg\n",
    "\n",
    "prefix = \"./results_2025-02/40k-ceph-pvc-scatter\"\n",
    "user_prefix = f\"{prefix}_users\"\n",
    "\n",
    "create_users_graphs(users_raw_ceph, user_prefix, 120)"
   ]
  },
  {
   "cell_type": "code",
   "execution_count": null,
   "metadata": {},
   "outputs": [],
   "source": [
    "import src.performance_graphs as pg\n",
    "\n",
    "group_prefix = f\"{prefix}_groups\"\n",
    "\n",
    "\n",
    "groups = pg.remove_outliers(groups_raw_ceph, 8)\n",
    "groups = groups.reset_index()\n",
    "\n",
    "print(f\"groups created: {len(groups)}\")\n",
    "print(f\"Total group creation time: {total_time(groups)}\")\n",
    "print(\"Average group creation times:\")\n",
    "print(pg.group_stats(groups))\n",
    "\n",
    "plot_time_delta(groups, group_prefix, \"index\", \"Group Counter\")\n",
    "plot_time_delta_logarythmic(groups, group_prefix, \"index\", \"Group Counter\")\n",
    "plot_entries_created_per_hour(groups, group_prefix, \"index\", \"Group Counter\")"
   ]
  },
  {
   "cell_type": "code",
   "execution_count": null,
   "metadata": {},
   "outputs": [],
   "source": [
    "import src.performance_graphs as pg\n",
    "\n",
    "users_raw_unfinished = pg.process_log_file(\"./ldap-index-deployment-initial-sync_failed-at-group-sync.log\", pg.parse_simple_user_line)\n",
    "display(users_raw_ceph.head())"
   ]
  },
  {
   "cell_type": "code",
   "execution_count": null,
   "metadata": {},
   "outputs": [],
   "source": [
    "display(users.iloc[-850:-800])\n",
    "display(len(users)-100170)\n",
    "\n",
    "users_cleaned = users.iloc[:-821]\n",
    "display(users_cleaned.tail())"
   ]
  },
  {
   "cell_type": "code",
   "execution_count": null,
   "metadata": {},
   "outputs": [],
   "source": [
    "import src.performance_graphs as pg\n",
    "\n",
    "prefix = \"./results_2025-02/100k-ldap-index-failed-group\"\n",
    "user_prefix = f\"{prefix}_users_cleaned\"\n",
    "\n",
    "create_users_graphs(users_raw_ceph, user_prefix, 4)"
   ]
  },
  {
   "cell_type": "code",
   "execution_count": null,
   "metadata": {},
   "outputs": [],
   "source": []
  }
 ],
 "metadata": {
  "kernelspec": {
   "display_name": "Python 3",
   "language": "python",
   "name": "python3"
  },
  "language_info": {
   "codemirror_mode": {
    "name": "ipython",
    "version": 3
   },
   "file_extension": ".py",
   "mimetype": "text/x-python",
   "name": "python",
   "nbconvert_exporter": "python",
   "pygments_lexer": "ipython3",
   "version": "3.10.12"
  },
  "orig_nbformat": 4
 },
 "nbformat": 4,
 "nbformat_minor": 2
}
